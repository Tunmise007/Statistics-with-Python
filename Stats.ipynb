{
  "nbformat": 4,
  "nbformat_minor": 0,
  "metadata": {
    "colab": {
      "provenance": []
    },
    "kernelspec": {
      "name": "python3",
      "display_name": "Python 3"
    },
    "language_info": {
      "name": "python"
    }
  },
  "cells": [
    {
      "cell_type": "markdown",
      "source": [
        "## **Setting up Enrivoment**"
      ],
      "metadata": {
        "id": "F-bwNaNc8LHN"
      }
    },
    {
      "cell_type": "code",
      "execution_count": null,
      "metadata": {
        "id": "PJHjO_bB8E-E"
      },
      "outputs": [],
      "source": [
        "import pandas as pd\n",
        "import numpy as np\n",
        "import statistics\n",
        "from scipy.stats import iqr\n",
        "import matplotlib.pyplot as plt"
      ]
    },
    {
      "cell_type": "markdown",
      "source": [
        "## **Content**\n",
        "\n",
        "The data set contains over two decades of data on each player who has been part of an NBA teams' roster. It captures demographic variables such as age, height, weight and place of birth, biographical details like the team played for, draft year and round. In addition, it has basic box score statistics such as games played, average number of points, rebounds, assists, etc."
      ],
      "metadata": {
        "id": "U8o0FP6G86kA"
      }
    },
    {
      "cell_type": "code",
      "source": [
        "#Loading NBA Player Dataset\n",
        "data = pd.read_csv('/content/drive/MyDrive/all_seasons.csv')\n",
        "data.head()"
      ],
      "metadata": {
        "colab": {
          "base_uri": "https://localhost:8080/",
          "height": 421
        },
        "id": "N8qalhMn85Zt",
        "outputId": "244f3a40-3777-4efa-acd7-6d1829041823"
      },
      "execution_count": null,
      "outputs": [
        {
          "output_type": "execute_result",
          "data": {
            "text/plain": [
              "   Unnamed: 0        player_name team_abbreviation   age  player_height  \\\n",
              "0           0      Dennis Rodman               CHI  36.0         198.12   \n",
              "1           1  Dwayne Schintzius               LAC  28.0         215.90   \n",
              "2           2       Earl Cureton               TOR  39.0         205.74   \n",
              "3           3        Ed O'Bannon               DAL  24.0         203.20   \n",
              "4           4        Ed Pinckney               MIA  34.0         205.74   \n",
              "\n",
              "   player_weight                      college country draft_year draft_round  \\\n",
              "0      99.790240  Southeastern Oklahoma State     USA       1986           2   \n",
              "1     117.933920                      Florida     USA       1990           1   \n",
              "2      95.254320                Detroit Mercy     USA       1979           3   \n",
              "3     100.697424                         UCLA     USA       1995           1   \n",
              "4     108.862080                    Villanova     USA       1985           1   \n",
              "\n",
              "   ...  pts   reb  ast  net_rating  oreb_pct  dreb_pct  usg_pct  ts_pct  \\\n",
              "0  ...  5.7  16.1  3.1        16.1     0.186     0.323    0.100   0.479   \n",
              "1  ...  2.3   1.5  0.3        12.3     0.078     0.151    0.175   0.430   \n",
              "2  ...  0.8   1.0  0.4        -2.1     0.105     0.102    0.103   0.376   \n",
              "3  ...  3.7   2.3  0.6        -8.7     0.060     0.149    0.167   0.399   \n",
              "4  ...  2.4   2.4  0.2       -11.2     0.109     0.179    0.127   0.611   \n",
              "\n",
              "   ast_pct   season  \n",
              "0    0.113  1996-97  \n",
              "1    0.048  1996-97  \n",
              "2    0.148  1996-97  \n",
              "3    0.077  1996-97  \n",
              "4    0.040  1996-97  \n",
              "\n",
              "[5 rows x 22 columns]"
            ],
            "text/html": [
              "\n",
              "  <div id=\"df-6af0a979-7a8f-418a-ad69-c9e8651da1b8\">\n",
              "    <div class=\"colab-df-container\">\n",
              "      <div>\n",
              "<style scoped>\n",
              "    .dataframe tbody tr th:only-of-type {\n",
              "        vertical-align: middle;\n",
              "    }\n",
              "\n",
              "    .dataframe tbody tr th {\n",
              "        vertical-align: top;\n",
              "    }\n",
              "\n",
              "    .dataframe thead th {\n",
              "        text-align: right;\n",
              "    }\n",
              "</style>\n",
              "<table border=\"1\" class=\"dataframe\">\n",
              "  <thead>\n",
              "    <tr style=\"text-align: right;\">\n",
              "      <th></th>\n",
              "      <th>Unnamed: 0</th>\n",
              "      <th>player_name</th>\n",
              "      <th>team_abbreviation</th>\n",
              "      <th>age</th>\n",
              "      <th>player_height</th>\n",
              "      <th>player_weight</th>\n",
              "      <th>college</th>\n",
              "      <th>country</th>\n",
              "      <th>draft_year</th>\n",
              "      <th>draft_round</th>\n",
              "      <th>...</th>\n",
              "      <th>pts</th>\n",
              "      <th>reb</th>\n",
              "      <th>ast</th>\n",
              "      <th>net_rating</th>\n",
              "      <th>oreb_pct</th>\n",
              "      <th>dreb_pct</th>\n",
              "      <th>usg_pct</th>\n",
              "      <th>ts_pct</th>\n",
              "      <th>ast_pct</th>\n",
              "      <th>season</th>\n",
              "    </tr>\n",
              "  </thead>\n",
              "  <tbody>\n",
              "    <tr>\n",
              "      <th>0</th>\n",
              "      <td>0</td>\n",
              "      <td>Dennis Rodman</td>\n",
              "      <td>CHI</td>\n",
              "      <td>36.0</td>\n",
              "      <td>198.12</td>\n",
              "      <td>99.790240</td>\n",
              "      <td>Southeastern Oklahoma State</td>\n",
              "      <td>USA</td>\n",
              "      <td>1986</td>\n",
              "      <td>2</td>\n",
              "      <td>...</td>\n",
              "      <td>5.7</td>\n",
              "      <td>16.1</td>\n",
              "      <td>3.1</td>\n",
              "      <td>16.1</td>\n",
              "      <td>0.186</td>\n",
              "      <td>0.323</td>\n",
              "      <td>0.100</td>\n",
              "      <td>0.479</td>\n",
              "      <td>0.113</td>\n",
              "      <td>1996-97</td>\n",
              "    </tr>\n",
              "    <tr>\n",
              "      <th>1</th>\n",
              "      <td>1</td>\n",
              "      <td>Dwayne Schintzius</td>\n",
              "      <td>LAC</td>\n",
              "      <td>28.0</td>\n",
              "      <td>215.90</td>\n",
              "      <td>117.933920</td>\n",
              "      <td>Florida</td>\n",
              "      <td>USA</td>\n",
              "      <td>1990</td>\n",
              "      <td>1</td>\n",
              "      <td>...</td>\n",
              "      <td>2.3</td>\n",
              "      <td>1.5</td>\n",
              "      <td>0.3</td>\n",
              "      <td>12.3</td>\n",
              "      <td>0.078</td>\n",
              "      <td>0.151</td>\n",
              "      <td>0.175</td>\n",
              "      <td>0.430</td>\n",
              "      <td>0.048</td>\n",
              "      <td>1996-97</td>\n",
              "    </tr>\n",
              "    <tr>\n",
              "      <th>2</th>\n",
              "      <td>2</td>\n",
              "      <td>Earl Cureton</td>\n",
              "      <td>TOR</td>\n",
              "      <td>39.0</td>\n",
              "      <td>205.74</td>\n",
              "      <td>95.254320</td>\n",
              "      <td>Detroit Mercy</td>\n",
              "      <td>USA</td>\n",
              "      <td>1979</td>\n",
              "      <td>3</td>\n",
              "      <td>...</td>\n",
              "      <td>0.8</td>\n",
              "      <td>1.0</td>\n",
              "      <td>0.4</td>\n",
              "      <td>-2.1</td>\n",
              "      <td>0.105</td>\n",
              "      <td>0.102</td>\n",
              "      <td>0.103</td>\n",
              "      <td>0.376</td>\n",
              "      <td>0.148</td>\n",
              "      <td>1996-97</td>\n",
              "    </tr>\n",
              "    <tr>\n",
              "      <th>3</th>\n",
              "      <td>3</td>\n",
              "      <td>Ed O'Bannon</td>\n",
              "      <td>DAL</td>\n",
              "      <td>24.0</td>\n",
              "      <td>203.20</td>\n",
              "      <td>100.697424</td>\n",
              "      <td>UCLA</td>\n",
              "      <td>USA</td>\n",
              "      <td>1995</td>\n",
              "      <td>1</td>\n",
              "      <td>...</td>\n",
              "      <td>3.7</td>\n",
              "      <td>2.3</td>\n",
              "      <td>0.6</td>\n",
              "      <td>-8.7</td>\n",
              "      <td>0.060</td>\n",
              "      <td>0.149</td>\n",
              "      <td>0.167</td>\n",
              "      <td>0.399</td>\n",
              "      <td>0.077</td>\n",
              "      <td>1996-97</td>\n",
              "    </tr>\n",
              "    <tr>\n",
              "      <th>4</th>\n",
              "      <td>4</td>\n",
              "      <td>Ed Pinckney</td>\n",
              "      <td>MIA</td>\n",
              "      <td>34.0</td>\n",
              "      <td>205.74</td>\n",
              "      <td>108.862080</td>\n",
              "      <td>Villanova</td>\n",
              "      <td>USA</td>\n",
              "      <td>1985</td>\n",
              "      <td>1</td>\n",
              "      <td>...</td>\n",
              "      <td>2.4</td>\n",
              "      <td>2.4</td>\n",
              "      <td>0.2</td>\n",
              "      <td>-11.2</td>\n",
              "      <td>0.109</td>\n",
              "      <td>0.179</td>\n",
              "      <td>0.127</td>\n",
              "      <td>0.611</td>\n",
              "      <td>0.040</td>\n",
              "      <td>1996-97</td>\n",
              "    </tr>\n",
              "  </tbody>\n",
              "</table>\n",
              "<p>5 rows × 22 columns</p>\n",
              "</div>\n",
              "      <button class=\"colab-df-convert\" onclick=\"convertToInteractive('df-6af0a979-7a8f-418a-ad69-c9e8651da1b8')\"\n",
              "              title=\"Convert this dataframe to an interactive table.\"\n",
              "              style=\"display:none;\">\n",
              "        \n",
              "  <svg xmlns=\"http://www.w3.org/2000/svg\" height=\"24px\"viewBox=\"0 0 24 24\"\n",
              "       width=\"24px\">\n",
              "    <path d=\"M0 0h24v24H0V0z\" fill=\"none\"/>\n",
              "    <path d=\"M18.56 5.44l.94 2.06.94-2.06 2.06-.94-2.06-.94-.94-2.06-.94 2.06-2.06.94zm-11 1L8.5 8.5l.94-2.06 2.06-.94-2.06-.94L8.5 2.5l-.94 2.06-2.06.94zm10 10l.94 2.06.94-2.06 2.06-.94-2.06-.94-.94-2.06-.94 2.06-2.06.94z\"/><path d=\"M17.41 7.96l-1.37-1.37c-.4-.4-.92-.59-1.43-.59-.52 0-1.04.2-1.43.59L10.3 9.45l-7.72 7.72c-.78.78-.78 2.05 0 2.83L4 21.41c.39.39.9.59 1.41.59.51 0 1.02-.2 1.41-.59l7.78-7.78 2.81-2.81c.8-.78.8-2.07 0-2.86zM5.41 20L4 18.59l7.72-7.72 1.47 1.35L5.41 20z\"/>\n",
              "  </svg>\n",
              "      </button>\n",
              "      \n",
              "  <style>\n",
              "    .colab-df-container {\n",
              "      display:flex;\n",
              "      flex-wrap:wrap;\n",
              "      gap: 12px;\n",
              "    }\n",
              "\n",
              "    .colab-df-convert {\n",
              "      background-color: #E8F0FE;\n",
              "      border: none;\n",
              "      border-radius: 50%;\n",
              "      cursor: pointer;\n",
              "      display: none;\n",
              "      fill: #1967D2;\n",
              "      height: 32px;\n",
              "      padding: 0 0 0 0;\n",
              "      width: 32px;\n",
              "    }\n",
              "\n",
              "    .colab-df-convert:hover {\n",
              "      background-color: #E2EBFA;\n",
              "      box-shadow: 0px 1px 2px rgba(60, 64, 67, 0.3), 0px 1px 3px 1px rgba(60, 64, 67, 0.15);\n",
              "      fill: #174EA6;\n",
              "    }\n",
              "\n",
              "    [theme=dark] .colab-df-convert {\n",
              "      background-color: #3B4455;\n",
              "      fill: #D2E3FC;\n",
              "    }\n",
              "\n",
              "    [theme=dark] .colab-df-convert:hover {\n",
              "      background-color: #434B5C;\n",
              "      box-shadow: 0px 1px 3px 1px rgba(0, 0, 0, 0.15);\n",
              "      filter: drop-shadow(0px 1px 2px rgba(0, 0, 0, 0.3));\n",
              "      fill: #FFFFFF;\n",
              "    }\n",
              "  </style>\n",
              "\n",
              "      <script>\n",
              "        const buttonEl =\n",
              "          document.querySelector('#df-6af0a979-7a8f-418a-ad69-c9e8651da1b8 button.colab-df-convert');\n",
              "        buttonEl.style.display =\n",
              "          google.colab.kernel.accessAllowed ? 'block' : 'none';\n",
              "\n",
              "        async function convertToInteractive(key) {\n",
              "          const element = document.querySelector('#df-6af0a979-7a8f-418a-ad69-c9e8651da1b8');\n",
              "          const dataTable =\n",
              "            await google.colab.kernel.invokeFunction('convertToInteractive',\n",
              "                                                     [key], {});\n",
              "          if (!dataTable) return;\n",
              "\n",
              "          const docLinkHtml = 'Like what you see? Visit the ' +\n",
              "            '<a target=\"_blank\" href=https://colab.research.google.com/notebooks/data_table.ipynb>data table notebook</a>'\n",
              "            + ' to learn more about interactive tables.';\n",
              "          element.innerHTML = '';\n",
              "          dataTable['output_type'] = 'display_data';\n",
              "          await google.colab.output.renderOutput(dataTable, element);\n",
              "          const docLink = document.createElement('div');\n",
              "          docLink.innerHTML = docLinkHtml;\n",
              "          element.appendChild(docLink);\n",
              "        }\n",
              "      </script>\n",
              "    </div>\n",
              "  </div>\n",
              "  "
            ]
          },
          "metadata": {},
          "execution_count": 4
        }
      ]
    },
    {
      "cell_type": "code",
      "source": [
        "data.info()"
      ],
      "metadata": {
        "colab": {
          "base_uri": "https://localhost:8080/"
        },
        "id": "Bl0U9XKI-F9u",
        "outputId": "11f7cc77-71e4-4a1c-820f-bf7a58c1ad1e"
      },
      "execution_count": null,
      "outputs": [
        {
          "output_type": "stream",
          "name": "stdout",
          "text": [
            "<class 'pandas.core.frame.DataFrame'>\n",
            "RangeIndex: 12305 entries, 0 to 12304\n",
            "Data columns (total 22 columns):\n",
            " #   Column             Non-Null Count  Dtype  \n",
            "---  ------             --------------  -----  \n",
            " 0   Unnamed: 0         12305 non-null  int64  \n",
            " 1   player_name        12305 non-null  object \n",
            " 2   team_abbreviation  12305 non-null  object \n",
            " 3   age                12305 non-null  float64\n",
            " 4   player_height      12305 non-null  float64\n",
            " 5   player_weight      12305 non-null  float64\n",
            " 6   college            12305 non-null  object \n",
            " 7   country            12305 non-null  object \n",
            " 8   draft_year         12305 non-null  object \n",
            " 9   draft_round        12305 non-null  object \n",
            " 10  draft_number       12305 non-null  object \n",
            " 11  gp                 12305 non-null  int64  \n",
            " 12  pts                12305 non-null  float64\n",
            " 13  reb                12305 non-null  float64\n",
            " 14  ast                12305 non-null  float64\n",
            " 15  net_rating         12305 non-null  float64\n",
            " 16  oreb_pct           12305 non-null  float64\n",
            " 17  dreb_pct           12305 non-null  float64\n",
            " 18  usg_pct            12305 non-null  float64\n",
            " 19  ts_pct             12305 non-null  float64\n",
            " 20  ast_pct            12305 non-null  float64\n",
            " 21  season             12305 non-null  object \n",
            "dtypes: float64(12), int64(2), object(8)\n",
            "memory usage: 2.1+ MB\n"
          ]
        }
      ]
    },
    {
      "cell_type": "markdown",
      "source": [
        "## **Measures of Center**\n",
        "Measures of centre help us understand the central tendency or the typical value of a dataset. Let's explore the three key measures of centre:\n",
        "\n",
        "*   Mean\n",
        "*   Median\n",
        "*   Mode\n",
        "\n",
        "\n",
        "\n",
        "\n",
        "\n"
      ],
      "metadata": {
        "id": "ebsF72yd-9Mj"
      }
    },
    {
      "cell_type": "markdown",
      "source": [
        "### **Mean**\n",
        "\n",
        "Also known as the arithmetic mean or average, is a measure of centre calculated by summing up all the values in a dataset and dividing the sum by the total number of observations. It provides a measure of the central tendency of the data by taking into account all values. The mean is sensitive to extreme values and can be affected by outliers.\n",
        "\n",
        "**When to use the mean**\n",
        "\n",
        "It is suitable for symmetrically distributed data without extreme outliers. The mean is especially useful when you need to calculate the average or estimate a central value.\n",
        "\n",
        "**The formula for Mean:**\n",
        "\n",
        "Mean = (Sum of all values) / (Number of observations)\n"
      ],
      "metadata": {
        "id": "5qBmWHg5_LXS"
      }
    },
    {
      "cell_type": "code",
      "source": [
        "#plotting histogrom of player_height\n",
        "plt.hist(data['player_height'])\n",
        "\n",
        "plt.show()"
      ],
      "metadata": {
        "colab": {
          "base_uri": "https://localhost:8080/",
          "height": 430
        },
        "id": "DT5CaUYI-x_Y",
        "outputId": "15097d41-d02c-4448-e6df-5465c735b7de"
      },
      "execution_count": null,
      "outputs": [
        {
          "output_type": "display_data",
          "data": {
            "text/plain": [
              "<Figure size 640x480 with 1 Axes>"
            ],
            "image/png": "[encoded data removed]"
          },
          "metadata": {}
        }
      ]
    },
    {
      "cell_type": "markdown",
      "source": [
        "The player_height column is symmetrical, so we can go ahead and calculate the mean"
      ],
      "metadata": {
        "id": "CD1pnHPZDtFI"
      }
    },
    {
      "cell_type": "code",
      "source": [
        "#Calculating the mean of player_height(in centimeters)\n",
        "\n",
        "mean = np.mean(data['player_height'])\n",
        "\n",
        "print(mean)"
      ],
      "metadata": {
        "colab": {
          "base_uri": "https://localhost:8080/"
        },
        "id": "9L4uP8VUD5w0",
        "outputId": "b493f258-a557-4910-eee5-11f147ecd1ad"
      },
      "execution_count": null,
      "outputs": [
        {
          "output_type": "stream",
          "name": "stdout",
          "text": [
            "200.61160178789112\n"
          ]
        }
      ]
    },
    {
      "cell_type": "markdown",
      "source": [
        "The mean or average height of NBA players is ~200.611 cm"
      ],
      "metadata": {
        "id": "c0Rzgt4pEhDK"
      }
    },
    {
      "cell_type": "markdown",
      "source": [
        "### **Median**\n",
        "The median is the middle value in a dataset when it is sorted in ascending order. It is a robust measure of centre that is less affected by extreme values or skewed data distributions.To calculate the median, the dataset is first sorted in ascending or descending order. Then, the middle value is determined. If the dataset has an odd number of observations, the median is simply the middle value. However, if the dataset has an even number of observations, the median is calculated as the average of the two middle values.\n",
        "\n",
        "**When to use median**\n",
        "\n",
        "It is particularly useful when working with datasets that contain outliers or when you want to describe the typical value without being influenced by extreme observations.\n",
        "\n",
        "**The formula for median**\n",
        "\n",
        "*Odd number of observations:*\n",
        "\n",
        "Consider the dataset [2, 5, 7, 9, 12]. When sorted in ascending order, the middle value is 7. Therefore, the median of this dataset is 7.\n",
        "\n",
        "*Even number of observations:*\n",
        "\n",
        "Let's take the dataset [4, 6, 8, 10, 14, 16]. When sorted in ascending order, the two middle values are 8 and 10. To find the median, calculate their average: (8 + 10) / 2 = 9. Therefore, the median of this dataset is 9.\n"
      ],
      "metadata": {
        "id": "1WxZmI5UFD_N"
      }
    },
    {
      "cell_type": "code",
      "source": [
        "plt.hist(data['pts'])\n",
        "\n",
        "plt.show()"
      ],
      "metadata": {
        "colab": {
          "base_uri": "https://localhost:8080/",
          "height": 430
        },
        "id": "EAsVfYrwFCvw",
        "outputId": "9acba885-dcb5-47e7-9b72-4f82160be6fc"
      },
      "execution_count": null,
      "outputs": [
        {
          "output_type": "display_data",
          "data": {
            "text/plain": [
              "<Figure size 640x480 with 1 Axes>"
            ],
            "image/png": "[encoded data removed]"
          },
          "metadata": {}
        }
      ]
    },
    {
      "cell_type": "markdown",
      "source": [
        "Since the data for average points scored is Right-skewed we can go ahead and calculate the median points scored by an NBA player"
      ],
      "metadata": {
        "id": "poaasP52JWpW"
      }
    },
    {
      "cell_type": "code",
      "source": [
        "median = np.median(data['pts'])\n",
        "\n",
        "print(median)"
      ],
      "metadata": {
        "colab": {
          "base_uri": "https://localhost:8080/"
        },
        "id": "4c9eqj9yJV5J",
        "outputId": "253bf3dd-1a25-46bd-cb1d-1b77a68e6b7c"
      },
      "execution_count": null,
      "outputs": [
        {
          "output_type": "stream",
          "name": "stdout",
          "text": [
            "6.7\n"
          ]
        }
      ]
    },
    {
      "cell_type": "markdown",
      "source": [
        "This indicates that half of the NBA players have an average points scored that is lower than approximately 6.7 to 7, while the other half has an average points scored that is higher than 6.7 to 7."
      ],
      "metadata": {
        "id": "TK5LXyq1J0bM"
      }
    },
    {
      "cell_type": "markdown",
      "source": [
        "### **Mode**\n",
        "The mode is a measure of centre that represents the value or values that occur most frequently in a dataset. It is particularly useful when analysing categorical or discrete data."
      ],
      "metadata": {
        "id": "0l8ZD7GmLJsL"
      }
    },
    {
      "cell_type": "code",
      "source": [
        "mode = statistics.mode(data['country'])\n",
        "\n",
        "mode"
      ],
      "metadata": {
        "colab": {
          "base_uri": "https://localhost:8080/",
          "height": 35
        },
        "id": "DBxj-yEdLEdP",
        "outputId": "3bdf900e-bab9-4fcd-8774-4ab5210148f1"
      },
      "execution_count": null,
      "outputs": [
        {
          "output_type": "execute_result",
          "data": {
            "text/plain": [
              "'USA'"
            ],
            "application/vnd.google.colaboratory.intrinsic+json": {
              "type": "string"
            }
          },
          "metadata": {},
          "execution_count": 32
        }
      ]
    },
    {
      "cell_type": "markdown",
      "source": [
        "The result indicates that the most common country in the dataset is USA"
      ],
      "metadata": {
        "id": "FrP9pTKLO0jw"
      }
    },
    {
      "cell_type": "markdown",
      "source": [
        "## **Measures of Spread**\n",
        "Measures of spread also referred to as measures of dispersion, are statistical tools that help us understand how the data points in a dataset are spread out or dispersed around a central value, such as the mean or median. These measures provide valuable insights into the variability present in the dataset and enable us to assess the extent of spread among the data points."
      ],
      "metadata": {
        "id": "zHeE6_GXO-iI"
      }
    },
    {
      "cell_type": "markdown",
      "source": [
        "### **Variance**\n",
        "\n",
        "Variance is a statistical measure that quantifies the spread or dispersion of data points in a dataset. It provides a numerical representation of how much the individual values deviate from the mean. In other words, variance measures the average squared difference between each data point and the mean of the dataset.\n"
      ],
      "metadata": {
        "id": "AvBQF5RwPUmg"
      }
    },
    {
      "cell_type": "code",
      "source": [
        "#calculating the variance\n",
        "variance = np.var(data['player_height'], ddof=1)\n",
        "\n",
        "variance"
      ],
      "metadata": {
        "colab": {
          "base_uri": "https://localhost:8080/"
        },
        "id": "rDEH1OhfPT0l",
        "outputId": "a134e513-9e17-4433-ab5c-d0e44b002af0"
      },
      "execution_count": null,
      "outputs": [
        {
          "output_type": "execute_result",
          "data": {
            "text/plain": [
              "83.65517923673285"
            ]
          },
          "metadata": {},
          "execution_count": 37
        }
      ]
    },
    {
      "cell_type": "markdown",
      "source": [
        "### **Standard Deviation**\n",
        "The standard deviation is the square root of the variance and provides a more interpretable measure of spread. It indicates the typical distance between data points and the mean.\n",
        "\n",
        "**The formula for calculating the standard deviation:**\n",
        "\n",
        "Standard Deviation = √((Σ(xᵢ - μ)²) / n)\n"
      ],
      "metadata": {
        "id": "iTXwIik0UUoN"
      }
    },
    {
      "cell_type": "code",
      "source": [
        "Standard_Deviation = np.std(data['player_height'], ddof=1)\n",
        "\n",
        "Standard_Deviation"
      ],
      "metadata": {
        "colab": {
          "base_uri": "https://localhost:8080/"
        },
        "id": "XxIseWLRUmQL",
        "outputId": "82276feb-a09a-499d-fb6b-275e87da6cd7"
      },
      "execution_count": null,
      "outputs": [
        {
          "output_type": "execute_result",
          "data": {
            "text/plain": [
              "9.146320529958091"
            ]
          },
          "metadata": {},
          "execution_count": 39
        }
      ]
    },
    {
      "cell_type": "markdown",
      "source": [
        "### **Mean Absolute Deviation**\n",
        "\n",
        "Mean Absolute Deviation (MAD) is a statistical measure that quantifies the average absolute difference between each data point and the mean of a dataset. It provides a measure of the dispersion or spread of data points around the mean.\n",
        "\n",
        "**The formula for calculating the MAD:**\n",
        "\n",
        "MAD = (|x₁ - μ| + |x₂ - μ| + ... + |xₙ - μ|) / n\n",
        "\n"
      ],
      "metadata": {
        "id": "oQNIXnb-VYVy"
      }
    },
    {
      "cell_type": "code",
      "source": [
        "mad = data['player_height'] - mean\n",
        "\n",
        "np.mean(np.abs(mad))"
      ],
      "metadata": {
        "colab": {
          "base_uri": "https://localhost:8080/"
        },
        "id": "P7yR3n7iWliq",
        "outputId": "27b8e910-d63e-463a-8dc5-c2ab1b70cb55"
      },
      "execution_count": null,
      "outputs": [
        {
          "output_type": "execute_result",
          "data": {
            "text/plain": [
              "7.471397441006146"
            ]
          },
          "metadata": {},
          "execution_count": 41
        }
      ]
    },
    {
      "cell_type": "markdown",
      "source": [
        "### **Quantiles**\n",
        "Quantiles divide a dataset into equal portions, enabling us to analyse data distribution and compare values across different datasets.\n",
        "\n",
        "Median (2nd Quantile):\n",
        "\n",
        "The median, as discussed earlier, represents the middle value of a dataset. It is the 50th percentile, dividing the data into two equal parts."
      ],
      "metadata": {
        "id": "l31rGw8jXYJ5"
      }
    },
    {
      "cell_type": "code",
      "source": [
        "np.quantile(data['player_height'], 0.5)"
      ],
      "metadata": {
        "colab": {
          "base_uri": "https://localhost:8080/"
        },
        "id": "u1oeydfQXmT0",
        "outputId": "868e4b2b-0f23-4134-a463-2961f45509e3"
      },
      "execution_count": null,
      "outputs": [
        {
          "output_type": "execute_result",
          "data": {
            "text/plain": [
              "200.66"
            ]
          },
          "metadata": {},
          "execution_count": 42
        }
      ]
    },
    {
      "cell_type": "markdown",
      "source": [
        "**Quartiles (1st, 2nd, and 3rd Quantiles):**\n",
        "\n",
        "Quartiles divide the data into four equal parts, representing the 25th, 50th, and 75th percentiles. The first quartile (Q1) represents the lower 25% of the data, the second quartile (Q2) represents the median, and the third quartile (Q3) represents the upper 25% of the data.\n"
      ],
      "metadata": {
        "id": "Zo6urR6uYnih"
      }
    },
    {
      "cell_type": "code",
      "source": [
        "np.quantile(data['player_height'], [0, 0.25, 0.5, 0.75, 1])"
      ],
      "metadata": {
        "colab": {
          "base_uri": "https://localhost:8080/"
        },
        "id": "HPqxbTpQYr3-",
        "outputId": "5a2fa4df-006a-49cf-ec25-61688a80d3b5"
      },
      "execution_count": null,
      "outputs": [
        {
          "output_type": "execute_result",
          "data": {
            "text/plain": [
              "array([160.02, 193.04, 200.66, 208.28, 231.14])"
            ]
          },
          "metadata": {},
          "execution_count": 44
        }
      ]
    },
    {
      "cell_type": "markdown",
      "source": [
        "### **Boxplots use quartiles**"
      ],
      "metadata": {
        "id": "gL4CXqATZy12"
      }
    },
    {
      "cell_type": "code",
      "source": [
        "plt.boxplot(data['player_height'])\n",
        "\n",
        "plt.show()"
      ],
      "metadata": {
        "colab": {
          "base_uri": "https://localhost:8080/",
          "height": 430
        },
        "id": "KM3Z9py6Zqjd",
        "outputId": "54d73efe-46f9-43b3-819b-071a7f0cbc46"
      },
      "execution_count": null,
      "outputs": [
        {
          "output_type": "display_data",
          "data": {
            "text/plain": [
              "<Figure size 640x480 with 1 Axes>"
            ],
            "image/png": "[encoded data removed]"
          },
          "metadata": {}
        }
      ]
    },
    {
      "cell_type": "markdown",
      "source": [
        "### **Inter quartile rang (iqr)**\n",
        "\n",
        "The Interquartile Range (IQR) is a statistical measure that represents the spread or dispersion of the middle 50% of the data in a dataset. It is calculated as the difference between the third quartile (Q3) and the first quartile (Q1)."
      ],
      "metadata": {
        "id": "Hyj-iyaEaf4y"
      }
    },
    {
      "cell_type": "code",
      "source": [
        "IQR = iqr(data['player_height'])\n",
        "\n",
        "IQR"
      ],
      "metadata": {
        "colab": {
          "base_uri": "https://localhost:8080/"
        },
        "id": "G8wv_oVEaYDu",
        "outputId": "e6fed225-168c-42af-b0a5-b5a3319b59a7"
      },
      "execution_count": null,
      "outputs": [
        {
          "output_type": "execute_result",
          "data": {
            "text/plain": [
              "15.240000000000009"
            ]
          },
          "metadata": {},
          "execution_count": 49
        }
      ]
    }
  ]
}